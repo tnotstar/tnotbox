{
 "cells": [
  {
   "cell_type": "markdown",
   "id": "actual-strength",
   "metadata": {},
   "source": [
    "Análisis básico de la serie de cotizaciones del par BTC-USD\n",
    "===========================================================\n",
    "\n",
    "Introducción\n",
    "------------\n",
    "\n",
    "Para obtener los datos podemos acceder al sitio web de *[Yahoo! Finance][1]*, y descargarlos para cada par que debemos analizar.\n",
    "\n",
    "[1]: https://finance.yahoo.com/quote/BTC-USD/history \"BTC-USD History at Yahoo! Finance\"\n",
    "\n",
    "### Descarga de los datos ###\n",
    "\n",
    "Por ejemplo, para obtener las cotizaciones del par estudiado en estas notas, podremos usar el comando `curl`, así:"
   ]
  },
  {
   "cell_type": "code",
   "execution_count": 1,
   "id": "afraid-silence",
   "metadata": {},
   "outputs": [
    {
     "name": "stderr",
     "output_type": "stream",
     "text": [
      "  % Total    % Received % Xferd  Average Speed   Time    Time     Time  Current\n",
      "                                 Dload  Upload   Total   Spent    Left  Speed\n",
      "\n",
      "  0     0    0     0    0     0      0      0 --:--:-- --:--:-- --:--:--     0\n",
      "100  184k    0  184k    0     0   794k      0 --:--:-- --:--:-- --:--:--  798k\n"
     ]
    }
   ],
   "source": [
    "! C:\\Scoop\\shims\\curl.exe -Lo \"BTC-USD_20210219.csv\" \"https://query1.finance.yahoo.com/v7/finance/download/BTC-USD?period1=1410912000&period2=1613692800&interval=1d&events=history&includeAdjustedClose=true\""
   ]
  },
  {
   "cell_type": "markdown",
   "id": "accredited-nylon",
   "metadata": {},
   "source": [
    "### Importar librerías básicas ###\n",
    "\n",
    "Toda vez descargado nuestro fichero de datos en nuestro directorio de trabajo, ahora podremos cargar las librerías básicas necesarias para cargar y trabajar con nuestro conjunto de datos:"
   ]
  },
  {
   "cell_type": "code",
   "execution_count": 2,
   "id": "spiritual-abortion",
   "metadata": {},
   "outputs": [],
   "source": [
    "import numpy as np\n",
    "import pandas as pd\n",
    "import seaborn\n",
    "import matplotlib.pyplot as plt"
   ]
  },
  {
   "cell_type": "code",
   "execution_count": 3,
   "id": "loaded-algebra",
   "metadata": {},
   "outputs": [],
   "source": [
    "%matplotlib inline"
   ]
  },
  {
   "cell_type": "markdown",
   "id": "supported-shopping",
   "metadata": {},
   "source": [
    "### Carga de datos originales ###\n",
    "\n",
    "Blah, blah, blah, ..."
   ]
  },
  {
   "cell_type": "code",
   "execution_count": 4,
   "id": "valuable-cookie",
   "metadata": {},
   "outputs": [],
   "source": [
    "bu1 = pd.read_csv(r\"BTC-USD_20210219.csv\")"
   ]
  },
  {
   "cell_type": "markdown",
   "id": "thorough-negative",
   "metadata": {},
   "source": [
    "Blah, blah, blah, ..."
   ]
  },
  {
   "cell_type": "code",
   "execution_count": 5,
   "id": "moral-ballot",
   "metadata": {},
   "outputs": [
    {
     "data": {
      "text/html": [
       "<div>\n",
       "<style scoped>\n",
       "    .dataframe tbody tr th:only-of-type {\n",
       "        vertical-align: middle;\n",
       "    }\n",
       "\n",
       "    .dataframe tbody tr th {\n",
       "        vertical-align: top;\n",
       "    }\n",
       "\n",
       "    .dataframe thead th {\n",
       "        text-align: right;\n",
       "    }\n",
       "</style>\n",
       "<table border=\"1\" class=\"dataframe\">\n",
       "  <thead>\n",
       "    <tr style=\"text-align: right;\">\n",
       "      <th></th>\n",
       "      <th>Date</th>\n",
       "      <th>Open</th>\n",
       "      <th>High</th>\n",
       "      <th>Low</th>\n",
       "      <th>Close</th>\n",
       "      <th>Adj Close</th>\n",
       "      <th>Volume</th>\n",
       "    </tr>\n",
       "  </thead>\n",
       "  <tbody>\n",
       "    <tr>\n",
       "      <th>0</th>\n",
       "      <td>2014-09-17</td>\n",
       "      <td>465.864014</td>\n",
       "      <td>468.174011</td>\n",
       "      <td>452.421997</td>\n",
       "      <td>457.334015</td>\n",
       "      <td>457.334015</td>\n",
       "      <td>21056800.0</td>\n",
       "    </tr>\n",
       "    <tr>\n",
       "      <th>1</th>\n",
       "      <td>2014-09-18</td>\n",
       "      <td>456.859985</td>\n",
       "      <td>456.859985</td>\n",
       "      <td>413.104004</td>\n",
       "      <td>424.440002</td>\n",
       "      <td>424.440002</td>\n",
       "      <td>34483200.0</td>\n",
       "    </tr>\n",
       "    <tr>\n",
       "      <th>2</th>\n",
       "      <td>2014-09-19</td>\n",
       "      <td>424.102997</td>\n",
       "      <td>427.834991</td>\n",
       "      <td>384.532013</td>\n",
       "      <td>394.795990</td>\n",
       "      <td>394.795990</td>\n",
       "      <td>37919700.0</td>\n",
       "    </tr>\n",
       "    <tr>\n",
       "      <th>3</th>\n",
       "      <td>2014-09-20</td>\n",
       "      <td>394.673004</td>\n",
       "      <td>423.295990</td>\n",
       "      <td>389.882996</td>\n",
       "      <td>408.903992</td>\n",
       "      <td>408.903992</td>\n",
       "      <td>36863600.0</td>\n",
       "    </tr>\n",
       "    <tr>\n",
       "      <th>4</th>\n",
       "      <td>2014-09-21</td>\n",
       "      <td>408.084991</td>\n",
       "      <td>412.425995</td>\n",
       "      <td>393.181000</td>\n",
       "      <td>398.821014</td>\n",
       "      <td>398.821014</td>\n",
       "      <td>26580100.0</td>\n",
       "    </tr>\n",
       "  </tbody>\n",
       "</table>\n",
       "</div>"
      ],
      "text/plain": [
       "         Date        Open        High         Low       Close   Adj Close  \\\n",
       "0  2014-09-17  465.864014  468.174011  452.421997  457.334015  457.334015   \n",
       "1  2014-09-18  456.859985  456.859985  413.104004  424.440002  424.440002   \n",
       "2  2014-09-19  424.102997  427.834991  384.532013  394.795990  394.795990   \n",
       "3  2014-09-20  394.673004  423.295990  389.882996  408.903992  408.903992   \n",
       "4  2014-09-21  408.084991  412.425995  393.181000  398.821014  398.821014   \n",
       "\n",
       "       Volume  \n",
       "0  21056800.0  \n",
       "1  34483200.0  \n",
       "2  37919700.0  \n",
       "3  36863600.0  \n",
       "4  26580100.0  "
      ]
     },
     "execution_count": 5,
     "metadata": {},
     "output_type": "execute_result"
    }
   ],
   "source": [
    "bu1.head()"
   ]
  },
  {
   "cell_type": "code",
   "execution_count": 6,
   "id": "confused-account",
   "metadata": {},
   "outputs": [
    {
     "data": {
      "text/plain": [
       "<AxesSubplot:>"
      ]
     },
     "execution_count": 6,
     "metadata": {},
     "output_type": "execute_result"
    },
    {
     "data": {
      "image/png": "[encoded data removed]",
      "text/plain": [
       "<Figure size 432x288 with 1 Axes>"
      ]
     },
     "metadata": {
      "needs_background": "light"
     },
     "output_type": "display_data"
    }
   ],
   "source": [
    "bu1['Adj Close'].plot(style = '-')"
   ]
  },
  {
   "cell_type": "code",
   "execution_count": 7,
   "id": "thermal-archive",
   "metadata": {},
   "outputs": [
    {
     "data": {
      "text/plain": [
       "<AxesSubplot:>"
      ]
     },
     "execution_count": 7,
     "metadata": {},
     "output_type": "execute_result"
    },
    {
     "data": {
      "image/png": "[encoded data removed]",
      "text/plain": [
       "<Figure size 432x288 with 1 Axes>"
      ]
     },
     "metadata": {
      "needs_background": "light"
     },
     "output_type": "display_data"
    }
   ],
   "source": [
    "np.log(bu1['Adj Close']).plot(style='-')"
   ]
  }
 ],
 "metadata": {
  "kernelspec": {
   "display_name": "Python 3",
   "language": "python",
   "name": "python3"
  },
  "language_info": {
   "codemirror_mode": {
    "name": "ipython",
    "version": 3
   },
   "file_extension": ".py",
   "mimetype": "text/x-python",
   "name": "python",
   "nbconvert_exporter": "python",
   "pygments_lexer": "ipython3",
   "version": "3.9.1"
  }
 },
 "nbformat": 4,
 "nbformat_minor": 5
}
